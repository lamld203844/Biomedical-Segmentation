{
  "nbformat": 4,
  "nbformat_minor": 0,
  "metadata": {
    "colab": {
      "provenance": [],
      "gpuType": "T4",
      "authorship_tag": "ABX9TyMkX17hQeTQAp4f7InR97wM",
      "include_colab_link": true
    },
    "kernelspec": {
      "name": "python3",
      "display_name": "Python 3"
    },
    "language_info": {
      "name": "python"
    },
    "accelerator": "GPU"
  },
  "cells": [
    {
      "cell_type": "markdown",
      "metadata": {
        "id": "view-in-github",
        "colab_type": "text"
      },
      "source": [
        "<a href=\"https://colab.research.google.com/github/lamld203844/Biomedical-Machine-Learning/blob/main/EDA.ipynb\" target=\"_parent\"><img src=\"https://colab.research.google.com/assets/colab-badge.svg\" alt=\"Open In Colab\"/></a>"
      ]
    },
    {
      "cell_type": "markdown",
      "source": [
        "# Access dataset"
      ],
      "metadata": {
        "id": "G0n-4M-g20Vj"
      }
    },
    {
      "cell_type": "code",
      "source": [
        "# Google colab\n",
        "from google.colab import drive\n",
        "drive.mount('/content/drive')\n",
        "\n",
        "# Kaggle\n",
        "\n",
        "# Local"
      ],
      "metadata": {
        "colab": {
          "base_uri": "https://localhost:8080/"
        },
        "id": "Uk0vPnm_23Du",
        "outputId": "c74fc0a9-48f4-4c00-b571-0d2cb46e7781"
      },
      "execution_count": 1,
      "outputs": [
        {
          "output_type": "stream",
          "name": "stdout",
          "text": [
            "Mounted at /content/drive\n"
          ]
        }
      ]
    },
    {
      "cell_type": "code",
      "source": [
        "import os\n",
        "\n",
        "import pandas as pd\n",
        "import numpy as np\n",
        "import matplotlib.pyplot as plt\n",
        "import seaborn as sns"
      ],
      "metadata": {
        "id": "iNN0_n4h3n10"
      },
      "execution_count": 2,
      "outputs": []
    },
    {
      "cell_type": "markdown",
      "source": [
        "#### Tree structure of dataset\n",
        "- us_dataset\n",
        "    - 20190830T11515\n",
        "        - image\n",
        "            -  20190830T115515_9.png\n",
        "                - ...\n",
        "        - mask\n",
        "            -  20190830T115515_9_mask.png\n",
        "                - ...\n",
        "        - mask_enhance\n",
        "            -  20190830T115515_9_mask.png\n",
        "                - ...\n",
        "        - frame_label.csv\n",
        "    - 20190830T115602\n",
        "    - ..."
      ],
      "metadata": {
        "id": "KMBmdrAG39iH"
      }
    },
    {
      "cell_type": "markdown",
      "source": [
        "# About dataset\n",
        "\n",
        "20190916T104520, 20190916T105526... and other 78 folders are all screenshots extracted from ultrasound videos.\n",
        "It contains multiple subfolders, and the name of each folder corresponds to the name of the original video.\n",
        "\n",
        "File structure, for example:\n",
        "- 20190909T155747 (including all screenshots and corresponding annotations extracted from the video named \"20190909T155747\")\n",
        "- image (Screenshot extracted from the video, naming rule: \"video name\" + \"_frame sequence number\".png)\n",
        "- mask (Save the mask of the corresponding image in the image folder, naming rules: \"video name\" + \"_frame number\" + \"_mask\".png)\n",
        "- mask_enhance (the folder after image processing, red represents SP, green represents Head)\n",
        "- framelabel.csv (The frame number and corresponding frame label extracted from the video. frame_id is the frame number, frame_label is the frame label)\n",
        "\n",
        "\n",
        "Note:\n",
        "\n",
        "https://ps-fh-aop-2023.grand-challenge.org/\n",
        "\n",
        "1. The images in the image folder have undergone basic preprocessing. After cropping and overwriting operations, the original interface toolbar and text information in the image are removed. The processed size is 1295*1026. In order to prevent information loss, the downsampling process is not performed. At the same time, it has been converted into a grayscale image, which can be directly read in grayscale format when using it.\n",
        "2. The image in the mask folder may look completely black due to the low label value (pixel value 7-SP, 8-Head).\n",
        "3. Frame_label frame label 3-None, 4-OnlySP, 5-OnlyHead, 6-SP+Head in framelabel.csv.\n",
        "\n",
        "78Video, 6224frame image, 51patients\n"
      ],
      "metadata": {
        "id": "Nj5UY3Cf4MA-"
      }
    },
    {
      "cell_type": "code",
      "source": [
        "# Path to dataset\n",
        "dataset_path = \"/content/drive/MyDrive/segmentation/us_data/\""
      ],
      "metadata": {
        "id": "ZMoyuCpd4S7h"
      },
      "execution_count": 3,
      "outputs": []
    },
    {
      "cell_type": "code",
      "source": [
        "video_num = len(os.listdir(dataset_path))\n",
        "print(f'There are {video_num} subfolders corresponding to {video_num} videos')"
      ],
      "metadata": {
        "colab": {
          "base_uri": "https://localhost:8080/"
        },
        "id": "vN-Qlhjz4Z2L",
        "outputId": "0d8806ef-061a-4cb7-9368-bf6ff559c542"
      },
      "execution_count": 4,
      "outputs": [
        {
          "output_type": "stream",
          "name": "stdout",
          "text": [
            "There are 78 subfolders corresponding to 78 videos\n"
          ]
        }
      ]
    },
    {
      "cell_type": "code",
      "source": [
        "# check the number of frame images and mask\n",
        "img_paths = []\n",
        "img_mask_paths = []\n",
        "\n",
        "for vid in os.listdir(dataset_path):\n",
        "    imgs_path = os.path.join(dataset_path, vid, 'image')\n",
        "    masks_path = os.path.join(dataset_path, vid, 'mask')\n",
        "\n",
        "    for filename in os.listdir(imgs_path):\n",
        "      img_path = os.path.join(imgs_path, filename)\n",
        "      if os.path.isfile(img_path):\n",
        "        img_paths.append(img_path)\n",
        "\n",
        "    for filename in os.listdir(masks_path):\n",
        "      mask_path = os.path.join(masks_path, filename)\n",
        "      if os.path.isfile(mask_path):\n",
        "        img_mask_paths.append(mask_path)\n",
        "\n",
        "print(f'{len(img_paths)} frame images')\n",
        "print(f'{len(img_mask_paths)} mask images')"
      ],
      "metadata": {
        "colab": {
          "base_uri": "https://localhost:8080/"
        },
        "id": "8riyG8cX40Hq",
        "outputId": "1bd5d62f-d399-4a02-be48-f0ce04506012"
      },
      "execution_count": 11,
      "outputs": [
        {
          "output_type": "stream",
          "name": "stdout",
          "text": [
            "6254 frame images\n",
            "6247 mask images\n"
          ]
        }
      ]
    },
    {
      "cell_type": "markdown",
      "source": [
        "**6254 images != 6247 mask >> missing mask**"
      ],
      "metadata": {
        "id": "Or9VxoFy7Ql3"
      }
    },
    {
      "cell_type": "code",
      "source": [
        "# # we have 6224 masks but 6254 images. Hence we are going to\n",
        "# # make a 1-1 correspondance from mask to images, not the usual other way.\n",
        "\n",
        "# mask = [fName.split(\".png\")[0] for fName in enhance_mask]\n",
        "# image_file_name = [fName.split(\"_mask\")[0] for fName in enhance_mask]\n",
        "# len(image_file_name)"
      ],
      "metadata": {
        "id": "bBvylwxZ8Li_"
      },
      "execution_count": null,
      "outputs": []
    },
    {
      "cell_type": "markdown",
      "source": [
        "# Exploration"
      ],
      "metadata": {
        "id": "58RIjYtII6Po"
      }
    },
    {
      "cell_type": "markdown",
      "source": [
        "## Image data\n",
        "- Descriptive statistics: Calculate basic statistics for image intensity (min, max, mean, variance) across all frames and for each patient.\n",
        "- Histogram analysis: Create histograms of image intensity distribution to understand the range and frequency of pixel values.\n",
        "- Visualization: Explore random samples of images from different classes (None, OnlySP, OnlyHead, SP+Head) to get a visual understanding of the data."
      ],
      "metadata": {
        "id": "TXGdh151JDi5"
      }
    },
    {
      "cell_type": "code",
      "source": [
        "# Calculate basic statistics\n",
        "img_sizes = set()\n",
        "for img_path in img_paths:\n",
        "  if os.path.isfile(img_path):\n",
        "      img = plt.imread(img_path)\n",
        "      img_sizes.add(img.shape)\n",
        "\n",
        "img_sizes"
      ],
      "metadata": {
        "id": "hOgt9FyKJrPE"
      },
      "execution_count": null,
      "outputs": []
    },
    {
      "cell_type": "code",
      "source": [
        "# Visualize random samples\n",
        "sample_images = np.random.choice(img_paths, size=5)\n",
        "for i, img_path in enumerate(sample_images):\n",
        "    img = plt.imread(img_path)\n",
        "    plt.subplot(5, 1, i+1)\n",
        "    plt.imshow(img, cmap=\"gray\")\n",
        "    plt.title(f'Image')\n",
        "plt.tight_layout()\n",
        "plt.show()"
      ],
      "metadata": {
        "id": "_t8P5Q1xJVDo"
      },
      "execution_count": null,
      "outputs": []
    },
    {
      "cell_type": "markdown",
      "source": [
        "## Mask data:\n",
        "- Label frequency: Analyze the distribution of pixel values (7 for SP, 8 for Head) and calculate the percentage of pixels belonging to each label in each image and across the dataset.\n",
        "- Visualization: Show examples of masks for different frame labels to see how the segmentation is represented."
      ],
      "metadata": {
        "id": "wFjhzppdJRcv"
      }
    },
    {
      "cell_type": "code",
      "source": [
        "# Analyze label distribution\n",
        "# unique_labels = set()\n",
        "pixel_counts = {label: 0 for label in (7, 8)}  # Assuming 7 for SP and 8 for Head\n",
        "\n",
        "for mask_path in img_mask_paths:\n",
        "    if os.path.isfile(mask_path):\n",
        "        mask = plt.imread(mask_path)\n",
        "        # unique_labels |= set(mask.flatten())\n",
        "        for label in (7, 8):\n",
        "            pixel_counts[label] += np.count_nonzero(mask == label)\n",
        "\n",
        "# print(\"Unique label values and their pixel counts:\")\n",
        "print(f\"SP (7): {pixel_counts[7]}\")\n",
        "print(f\"Head (8): {pixel_counts[8]}\")"
      ],
      "metadata": {
        "id": "o1tytJhDVRhn"
      },
      "execution_count": null,
      "outputs": []
    },
    {
      "cell_type": "code",
      "source": [
        "# Visualize random samples with corresponding images\n",
        "sample_masks = np.random.choice(img_mask_paths, size=5)\n",
        "fig, axes = plt.subplots(5, 2, figsize=(12, 10))\n",
        "\n",
        "for i, mask_name in enumerate(sample_masks):\n",
        "    mask_path = os.path.join(mask_dir, mask_name)\n",
        "    mask = plt.imread(mask_path)\n",
        "\n",
        "    # Find corresponding image file (assuming same naming pattern)\n",
        "    img_name = mask_name.replace(\"_mask\", \"\")\n",
        "    img_path = os.path.join(mask_dir, img_name)\n",
        "    img = plt.imread(img_path)\n",
        "\n",
        "    axes[i, 0].imshow(img, cmap=\"gray\")\n",
        "    axes[i, 0].set_title(f\"Image: {img_name}\")\n",
        "\n",
        "    axes[i, 1].imshow(mask, cmap=\"hot\")\n",
        "    axes[i, 1].set_title(f\"Mask: {mask_name}\")\n",
        "\n",
        "    # Additional options:\n",
        "    # - Overlay mask on the image (alpha blending)\n",
        "    # - Highlight specific label values with different colors\n",
        "\n",
        "plt.tight_layout()\n",
        "plt.show()\n"
      ],
      "metadata": {
        "id": "GiOD8CVlVQb0"
      },
      "execution_count": null,
      "outputs": []
    },
    {
      "cell_type": "markdown",
      "source": [
        "## Label distribution\n",
        "- **Recap**: Frame_label frame label 3-None, 4-OnlySP, 5-OnlyHead, 6-SP+Head in framelabel.csv"
      ],
      "metadata": {
        "id": "263Nwm_-4RVs"
      }
    },
    {
      "cell_type": "code",
      "source": [
        "vid_dir = os.listdir(dataset_path)[1]\n",
        "label_path = os.path.join(dataset_path, vid_dir, \"frame_label.csv\")\n",
        "os.path.isfile(label_path)"
      ],
      "metadata": {
        "id": "mV7K-k9K6m1G"
      },
      "execution_count": null,
      "outputs": []
    },
    {
      "cell_type": "code",
      "source": [
        "vid1 = [name for name in frame_img if '20190830T115644' in name]"
      ],
      "metadata": {
        "id": "5cJCX3DY9Yke"
      },
      "execution_count": null,
      "outputs": []
    },
    {
      "cell_type": "code",
      "source": [
        "len(vid1)"
      ],
      "metadata": {
        "id": "mU3zAH-k98LS"
      },
      "execution_count": null,
      "outputs": []
    },
    {
      "cell_type": "code",
      "source": [
        "# Load all frame label files into a single DataFrame\n",
        "label_dfs = []\n",
        "for video_dir in os.listdir(dataset_path):\n",
        "    label_path = os.path.join(dataset_path, video_dir, \"frame_label.csv\")\n",
        "    if os.path.isfile(label_path):\n",
        "        # create a tempt df\n",
        "        df = pd.read_csv(label_path, names=[\"frame_id\", \"frame_label\"])\n",
        "        df[\"video_name\"] = video_dir\n",
        "        label_dfs.append(df)\n",
        "\n",
        "df = pd.concat(label_dfs, ignore_index=True)\n",
        "# clean data\n",
        "df = df[df['frame_id'] != 'frame_id']\n",
        "df"
      ],
      "metadata": {
        "id": "NFN6luf66S0_"
      },
      "execution_count": null,
      "outputs": []
    },
    {
      "cell_type": "code",
      "source": [
        "# Analyze frame label distribution across all videos\n",
        "label_counts = df[\"frame_label\"].value_counts()\n",
        "label_percentages = (label_counts / len(df)) * 100\n",
        "\n",
        "print(\"Frame label count:\")\n",
        "print(label_counts)\n",
        "print(\"Frame label distribution:\")\n",
        "print(label_percentages)\n",
        "\n",
        "# Plot pie chart using seaborn\n",
        "plt.figure(figsize=(4, 4))\n",
        "plt.pie(label_counts, labels = label_counts.index)\n",
        "plt.show()"
      ],
      "metadata": {
        "id": "bTOGFpUr6GMf"
      },
      "execution_count": null,
      "outputs": []
    },
    {
      "cell_type": "markdown",
      "source": [
        "**> Most of label are 6-SP+Head**"
      ],
      "metadata": {
        "id": "qx7Cf_-nC3Od"
      }
    }
  ]
}